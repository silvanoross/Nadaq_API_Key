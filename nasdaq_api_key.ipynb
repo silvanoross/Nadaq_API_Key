{
 "cells": [
  {
   "cell_type": "code",
   "execution_count": 1,
   "id": "79c85022-8e02-40d2-9ff5-dc0d3330c9ef",
   "metadata": {},
   "outputs": [],
   "source": [
    "# import necessart libraries and dependencies\n",
    "import os\n",
    "from dotenv import load_dotenv"
   ]
  },
  {
   "cell_type": "code",
   "execution_count": 3,
   "id": "d7b10ca9-b5d3-44c5-aad0-8c1338911987",
   "metadata": {},
   "outputs": [
    {
     "data": {
      "text/plain": [
       "True"
      ]
     },
     "execution_count": 3,
     "metadata": {},
     "output_type": "execute_result"
    }
   ],
   "source": [
    "# check load_dotenv\n",
    "load_dotenv()"
   ]
  },
  {
   "cell_type": "code",
   "execution_count": 4,
   "id": "969f09e2-56e2-45b6-a2ee-9826b6677709",
   "metadata": {},
   "outputs": [],
   "source": [
    "# retrieve API key from hidden .env file\n",
    "nasdaq_api_key = os.getenv('NASDAQ_API_KEY')\n"
   ]
  },
  {
   "cell_type": "code",
   "execution_count": 5,
   "id": "96aceb86-f755-4f71-ab1d-54e8f23d2c55",
   "metadata": {},
   "outputs": [
    {
     "data": {
      "text/plain": [
       "str"
      ]
     },
     "execution_count": 5,
     "metadata": {},
     "output_type": "execute_result"
    }
   ],
   "source": [
    "# check type\n",
    "type(nasdaq_api_key)"
   ]
  },
  {
   "cell_type": "code",
   "execution_count": 7,
   "id": "1ec415f7-655e-480c-8498-cc7926751447",
   "metadata": {},
   "outputs": [],
   "source": []
  },
  {
   "cell_type": "code",
   "execution_count": null,
   "id": "635e2060-3129-40fe-a7ed-0bc4585e252c",
   "metadata": {},
   "outputs": [],
   "source": []
  }
 ],
 "metadata": {
  "kernelspec": {
   "display_name": "Python (tdev)",
   "language": "python",
   "name": "tdev"
  },
  "language_info": {
   "codemirror_mode": {
    "name": "ipython",
    "version": 3
   },
   "file_extension": ".py",
   "mimetype": "text/x-python",
   "name": "python",
   "nbconvert_exporter": "python",
   "pygments_lexer": "ipython3",
   "version": "3.9.12"
  }
 },
 "nbformat": 4,
 "nbformat_minor": 5
}
